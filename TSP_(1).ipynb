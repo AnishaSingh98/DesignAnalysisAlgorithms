{
  "cells": [
    {
      "cell_type": "code",
      "execution_count": null,
      "id": "1910f910",
      "metadata": {
        "id": "1910f910",
        "outputId": "e1e099eb-ca79-46e2-979f-7e59bf2652af"
      },
      "outputs": [
        {
          "name": "stdout",
          "output_type": "stream",
          "text": [
            "80\n",
            "the taken  is  0.0006168999999545122\n"
          ]
        }
      ],
      "source": [
        "import time\n",
        "from sys import maxsize\n",
        "from itertools import permutations\n",
        "V = 4\n",
        "def travellingSalesmanProblem(graph, s):\n",
        "\n",
        "    vertex = []\n",
        "    for i in range(V):\n",
        "        if i != s:\n",
        "            vertex.append(i)\n",
        "\n",
        "    min_path = maxsize\n",
        "    next_permutation=permutations(vertex)\n",
        "    for i in next_permutation:\n",
        "\n",
        "\n",
        "        current_pathweight = 0\n",
        "\n",
        "        k = s\n",
        "        for j in i:\n",
        "            current_pathweight += graph[k][j]\n",
        "            k = j\n",
        "        current_pathweight += graph[k][s]\n",
        "\n",
        "        min_path = min(min_path, current_pathweight)\n",
        "\n",
        "    return min_path\n",
        "\n",
        "\n",
        "\n",
        "if __name__ == \"__main__\":\n",
        "\n",
        "    # matrix representation of graph\n",
        "    graph = [[0, 10, 15, 20], [10, 0, 35, 25],\n",
        "            [15, 35, 0, 30], [20, 25, 30, 0]]\n",
        "    s = 0\n",
        "    start_time=time.perf_counter()\n",
        "    print(travellingSalesmanProblem(graph, s))\n",
        "    end_time=time.perf_counter()\n",
        "    print(\"the taken  is \",end_time-start_time)"
      ]
    },
    {
      "cell_type": "code",
      "execution_count": null,
      "id": "4525baf8",
      "metadata": {
        "id": "4525baf8",
        "outputId": "15e0de68-abe0-4da3-ef87-384f009baaf6"
      },
      "outputs": [
        {
          "name": "stdout",
          "output_type": "stream",
          "text": [
            "70\n",
            "the taken  is  7.240000002184388e-05\n"
          ]
        }
      ],
      "source": [
        "import time\n",
        "from sys import maxsize\n",
        "from itertools import permutations\n",
        "V = 5\n",
        "def travellingSalesmanProblem(graph, s):\n",
        "\n",
        "    vertex = []\n",
        "    for i in range(V):\n",
        "        if i != s:\n",
        "            vertex.append(i)\n",
        "\n",
        "    min_path = maxsize\n",
        "    next_permutation=permutations(vertex)\n",
        "    for i in next_permutation:\n",
        "\n",
        "\n",
        "        current_pathweight = 0\n",
        "\n",
        "        k = s\n",
        "        for j in i:\n",
        "            current_pathweight += graph[k][j]\n",
        "            k = j\n",
        "        current_pathweight += graph[k][s]\n",
        "\n",
        "        min_path = min(min_path, current_pathweight)\n",
        "\n",
        "    return min_path\n",
        "\n",
        "\n",
        "\n",
        "if __name__ == \"__main__\":\n",
        "\n",
        "    # matrix representation of graph\n",
        "    graph = [[0, 10, 15, 20,15], [10, 0, 35, 25,15],\n",
        "            [15, 35, 0, 30,15], [20, 25, 30, 0,15],[10, 0, 35, 25,15]]\n",
        "    s = 0\n",
        "    start_time=time.perf_counter()\n",
        "    print(travellingSalesmanProblem(graph, s))\n",
        "    end_time=time.perf_counter()\n",
        "    print(\"the taken  is \",end_time-start_time)"
      ]
    },
    {
      "cell_type": "code",
      "execution_count": null,
      "id": "d902de52",
      "metadata": {
        "id": "d902de52",
        "outputId": "35b777c5-d68c-49ba-874c-ef797fbb2389"
      },
      "outputs": [
        {
          "name": "stdout",
          "output_type": "stream",
          "text": [
            "60\n",
            "the taken  is  0.0005698999999594889\n"
          ]
        }
      ],
      "source": [
        "import time\n",
        "from sys import maxsize\n",
        "from itertools import permutations\n",
        "V = 3\n",
        "def travellingSalesmanProblem(graph, s):\n",
        "\n",
        "    vertex = []\n",
        "    for i in range(V):\n",
        "        if i != s:\n",
        "            vertex.append(i)\n",
        "\n",
        "    min_path = maxsize\n",
        "    next_permutation=permutations(vertex)\n",
        "    for i in next_permutation:\n",
        "\n",
        "\n",
        "        current_pathweight = 0\n",
        "\n",
        "        k = s\n",
        "        for j in i:\n",
        "            current_pathweight += graph[k][j]\n",
        "            k = j\n",
        "        current_pathweight += graph[k][s]\n",
        "\n",
        "        min_path = min(min_path, current_pathweight)\n",
        "\n",
        "    return min_path\n",
        "\n",
        "\n",
        "\n",
        "if __name__ == \"__main__\":\n",
        "\n",
        "    # matrix representation of graph\n",
        "    graph = [[0, 10, 15], [10, 0, 35],\n",
        "            [15, 35, 0]]\n",
        "    s = 0\n",
        "    start_time=time.perf_counter()\n",
        "    print(travellingSalesmanProblem(graph, s))\n",
        "    end_time=time.perf_counter()\n",
        "    print(\"the taken  is \",end_time-start_time)"
      ]
    },
    {
      "cell_type": "code",
      "execution_count": null,
      "id": "7534f2f0",
      "metadata": {
        "id": "7534f2f0",
        "outputId": "466bad63-8c72-434f-fee9-201336db998a"
      },
      "outputs": [
        {
          "data": {
            "image/png": "[encoded data removed]",
            "text/plain": [
              "<Figure size 432x288 with 1 Axes>"
            ]
          },
          "metadata": {
            "needs_background": "light"
          },
          "output_type": "display_data"
        }
      ],
      "source": [
        "import matplotlib.pyplot as plt\n",
        "x = [0.0006168999999545122,7.240000002184388e-05,0.0005698999999594889]\n",
        "y = [4,5,3]\n",
        "plt.plot(x, y)\n",
        "plt.xlabel('Time')\n",
        "plt.ylabel('Size')\n",
        "plt.show()"
      ]
    },
    {
      "cell_type": "code",
      "execution_count": null,
      "id": "e852f7bf",
      "metadata": {
        "id": "e852f7bf"
      },
      "outputs": [],
      "source": []
    }
  ],
  "metadata": {
    "kernelspec": {
      "display_name": "Python 3 (ipykernel)",
      "language": "python",
      "name": "python3"
    },
    "language_info": {
      "codemirror_mode": {
        "name": "ipython",
        "version": 3
      },
      "file_extension": ".py",
      "mimetype": "text/x-python",
      "name": "python",
      "nbconvert_exporter": "python",
      "pygments_lexer": "ipython3",
      "version": "3.9.7"
    },
    "colab": {
      "provenance": []
    }
  },
  "nbformat": 4,
  "nbformat_minor": 5
}