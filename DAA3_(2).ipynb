{
  "cells": [
    {
      "cell_type": "code",
      "execution_count": null,
      "id": "1e752774",
      "metadata": {
        "id": "1e752774",
        "outputId": "f5fce63e-5e3a-4e3a-f112-fa64f6f52316"
      },
      "outputs": [
        {
          "name": "stdout",
          "output_type": "stream",
          "text": [
            "Enter no. of vertices :5\n",
            "[[25 13 22 14 32]\n",
            " [10 14 29 21 36]\n",
            " [23 36 10 14 12]\n",
            " [38 35 19 12 25]\n",
            " [22 23 29 35 12]]\n",
            "Enter the limit of time: 18\n",
            "City : Time\n",
            "Nagpur-Pune:13\n",
            "********************************possible**************************************\n",
            "Nagpur-Bangalore:14\n",
            "********************************possible**************************************\n",
            "Bangalore-Mumbai:19\n",
            "Mumbai-HYderabad:12\n",
            "********************************possible**************************************\n",
            "The time taken is  0.0004859000000578817\n"
          ]
        }
      ],
      "source": [
        "import numpy as np\n",
        "import time\n",
        "INF=9999\n",
        "v=int(input(\"Enter no. of vertices :\"))\n",
        "arr=np.random.randint(10,40,size=(v,v),dtype='int')\n",
        "print(arr)\n",
        "l=int(input(\"Enter the limit of time: \"))\n",
        "selected_node = [0,0,0,0,0]\n",
        "cities={0:\"Nagpur\",1:\"Pune\",2:\"Mumbai\",3:\"Bangalore\",4:\"HYderabad\"}\n",
        "\n",
        "edge = 0\n",
        "\n",
        "selected_node[0] = True\n",
        "\n",
        "start=time.perf_counter()\n",
        "print(\"City : Time\")\n",
        "while (edge < v - 1):\n",
        "\n",
        "    minimum = INF\n",
        "    a = 0\n",
        "    b = 0\n",
        "    for m in range(v):\n",
        "        if selected_node[m]:\n",
        "            for n in range(v):\n",
        "                if ((not selected_node[n]) and arr[m][n]):\n",
        "\n",
        "                    if minimum > arr[m][n]:\n",
        "                        minimum = arr[m][n]\n",
        "                        a = m\n",
        "                        b = n\n",
        "\n",
        "    print(str(cities.get(a)) + \"-\" + str(cities.get(b)) + \":\" + str(arr[a][b]))\n",
        "    if (l>=arr[a][b]):\n",
        "        print(\"********************************possible**************************************\")\n",
        "    selected_node[b] = True\n",
        "    edge += 1\n",
        "end=time.perf_counter()\n",
        "print(\"The time taken is \",end-start)"
      ]
    },
    {
      "cell_type": "code",
      "execution_count": null,
      "id": "4411f429",
      "metadata": {
        "id": "4411f429",
        "outputId": "3b8c4453-e409-46fe-bb57-6952cf96dafe"
      },
      "outputs": [
        {
          "name": "stdout",
          "output_type": "stream",
          "text": [
            "Enter no. of vertices :6\n",
            "[[10 15 14 39 37 14]\n",
            " [23 39 33 20 32 11]\n",
            " [20 23 22 14 21 38]\n",
            " [36 22 12 30 15 29]\n",
            " [32 22 12 31 23 12]\n",
            " [22 12 14 19 10 26]]\n",
            "Enter the limit of time: 23\n",
            "City : Time\n",
            "Nagpur-Mumbai:14\n",
            "********************************possible**************************************\n",
            "Nagpur-Agra:14\n",
            "********************************possible**************************************\n",
            "Agra-HYderabad:10\n",
            "********************************possible**************************************\n",
            "Agra-Pune:12\n",
            "********************************possible**************************************\n",
            "Mumbai-Bangalore:14\n",
            "********************************possible**************************************\n",
            "The time taken is  0.0003438999997342762\n"
          ]
        }
      ],
      "source": [
        "import numpy as np\n",
        "import time\n",
        "INF=9999\n",
        "v=int(input(\"Enter no. of vertices :\"))\n",
        "arr=np.random.randint(10,40,size=(v,v),dtype='int')\n",
        "print(arr)\n",
        "l=int(input(\"Enter the limit of time: \"))\n",
        "selected_node = [0,0,0,0,0,0]\n",
        "cities={0:\"Nagpur\",1:\"Pune\",2:\"Mumbai\",3:\"Bangalore\",4:\"HYderabad\",5:\"Agra\"}\n",
        "\n",
        "edge = 0\n",
        "\n",
        "selected_node[0] = True\n",
        "\n",
        "start=time.perf_counter()\n",
        "print(\"City : Time\")\n",
        "while (edge < v - 1):\n",
        "\n",
        "    minimum = INF\n",
        "    a = 0\n",
        "    b = 0\n",
        "    for m in range(v):\n",
        "        if selected_node[m]:\n",
        "            for n in range(v):\n",
        "                if ((not selected_node[n]) and arr[m][n]):\n",
        "\n",
        "                    if minimum > arr[m][n]:\n",
        "                        minimum = arr[m][n]\n",
        "                        a = m\n",
        "                        b = n\n",
        "\n",
        "    print(str(cities.get(a)) + \"-\" + str(cities.get(b)) + \":\" + str(arr[a][b]))\n",
        "    if (l>=arr[a][b]):\n",
        "        print(\"********************************possible**************************************\")\n",
        "    selected_node[b] = True\n",
        "    edge += 1\n",
        "end=time.perf_counter()\n",
        "print(\"The time taken is \",end-start)"
      ]
    },
    {
      "cell_type": "code",
      "execution_count": null,
      "id": "9d087355",
      "metadata": {
        "id": "9d087355",
        "outputId": "81ce7c3c-d1c3-4366-f9d1-499bc6b4d10f"
      },
      "outputs": [
        {
          "name": "stdout",
          "output_type": "stream",
          "text": [
            "Enter no. of vertices :4\n",
            "[[21 33 31 21]\n",
            " [35 22 33 14]\n",
            " [23 27 22 20]\n",
            " [19 32 37 30]]\n",
            "Enter the limit of time: 21\n",
            "City : Time\n",
            "Nagpur-None:21\n",
            "********************************possible**************************************\n",
            "Nagpur-Mumbai:31\n",
            "Mumbai-Pune:27\n",
            "The time taken is  0.00039759999981470173\n"
          ]
        }
      ],
      "source": [
        "import numpy as np\n",
        "import time\n",
        "INF=9999\n",
        "v=int(input(\"Enter no. of vertices :\"))\n",
        "arr=np.random.randint(10,40,size=(v,v),dtype='int')\n",
        "print(arr)\n",
        "l=int(input(\"Enter the limit of time: \"))\n",
        "selected_node = [0,0,0,0,0]\n",
        "cities={0:\"Nagpur\",1:\"Pune\",2:\"Mumbai\"}\n",
        "\n",
        "edge = 0\n",
        "\n",
        "selected_node[0] = True\n",
        "\n",
        "start=time.perf_counter()\n",
        "print(\"City : Time\")\n",
        "while (edge < v - 1):\n",
        "\n",
        "    minimum = INF\n",
        "    a = 0\n",
        "    b = 0\n",
        "    for m in range(v):\n",
        "        if selected_node[m]:\n",
        "            for n in range(v):\n",
        "                if ((not selected_node[n]) and arr[m][n]):\n",
        "\n",
        "                    if minimum > arr[m][n]:\n",
        "                        minimum = arr[m][n]\n",
        "                        a = m\n",
        "                        b = n\n",
        "\n",
        "    print(str(cities.get(a)) + \"-\" + str(cities.get(b)) + \":\" + str(arr[a][b]))\n",
        "    if (l>=arr[a][b]):\n",
        "        print(\"********************************possible**************************************\")\n",
        "    selected_node[b] = True\n",
        "    edge += 1\n",
        "end=time.perf_counter()\n",
        "print(\"The time taken is \",end-start)"
      ]
    },
    {
      "cell_type": "code",
      "execution_count": null,
      "id": "102de60d",
      "metadata": {
        "id": "102de60d",
        "outputId": "128bcbc9-4df0-4ce1-e0ac-a3666a3aaacc"
      },
      "outputs": [
        {
          "name": "stdout",
          "output_type": "stream",
          "text": [
            "Enter no. of vertices :3\n",
            "[[36 31 17]\n",
            " [37 27 37]\n",
            " [21 30 27]]\n",
            "Enter the limit of time: 12\n",
            "City : Time\n",
            "Nagpur-Mumbai:17\n",
            "Mumbai-Pune:30\n",
            "The time taken is  0.00036210000007486087\n"
          ]
        }
      ],
      "source": [
        "import numpy as np\n",
        "import time\n",
        "INF=9999\n",
        "v=int(input(\"Enter no. of vertices :\"))\n",
        "arr=np.random.randint(10,40,size=(v,v),dtype='int')\n",
        "print(arr)\n",
        "l=int(input(\"Enter the limit of time: \"))\n",
        "selected_node = [0,0,0,0,0]\n",
        "cities={0:\"Nagpur\",1:\"Pune\",2:\"Mumbai\",3:\"Bangalore\"}\n",
        "\n",
        "edge = 0\n",
        "\n",
        "selected_node[0] = True\n",
        "\n",
        "start=time.perf_counter()\n",
        "print(\"City : Time\")\n",
        "while (edge < v - 1):\n",
        "\n",
        "    minimum = INF\n",
        "    a = 0\n",
        "    b = 0\n",
        "    for m in range(v):\n",
        "        if selected_node[m]:\n",
        "            for n in range(v):\n",
        "                if ((not selected_node[n]) and arr[m][n]):\n",
        "\n",
        "                    if minimum > arr[m][n]:\n",
        "                        minimum = arr[m][n]\n",
        "                        a = m\n",
        "                        b = n\n",
        "\n",
        "    print(str(cities.get(a)) + \"-\" + str(cities.get(b)) + \":\" + str(arr[a][b]))\n",
        "    if (l>=arr[a][b]):\n",
        "        print(\"********************************possible**************************************\")\n",
        "    selected_node[b] = True\n",
        "    edge += 1\n",
        "end=time.perf_counter()\n",
        "print(\"The time taken is \",end-start)"
      ]
    },
    {
      "cell_type": "code",
      "execution_count": null,
      "id": "2a72079c",
      "metadata": {
        "id": "2a72079c"
      },
      "outputs": [],
      "source": []
    }
  ],
  "metadata": {
    "kernelspec": {
      "display_name": "Python 3 (ipykernel)",
      "language": "python",
      "name": "python3"
    },
    "language_info": {
      "codemirror_mode": {
        "name": "ipython",
        "version": 3
      },
      "file_extension": ".py",
      "mimetype": "text/x-python",
      "name": "python",
      "nbconvert_exporter": "python",
      "pygments_lexer": "ipython3",
      "version": "3.9.7"
    },
    "colab": {
      "provenance": []
    }
  },
  "nbformat": 4,
  "nbformat_minor": 5
}