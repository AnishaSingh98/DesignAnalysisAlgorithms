{
  "cells": [
    {
      "cell_type": "code",
      "execution_count": null,
      "id": "67085182",
      "metadata": {
        "id": "67085182",
        "outputId": "604d364d-0855-4ecd-d891-d23ae1bd6451"
      },
      "outputs": [
        {
          "name": "stdout",
          "output_type": "stream",
          "text": [
            "************************The following activities are selected********************************\n",
            "0 1 3 5 \n",
            "***************************************************************************************************\n",
            "\n",
            "Sum of profit: 23\n",
            "\n",
            "***************************************************************************************************\n"
          ]
        }
      ],
      "source": [
        "import time\n",
        "\n",
        "def printMaxActivities(s , f ,p):\n",
        "    n = len(f)\n",
        "    print (\"************************The following activities are selected********************************\")\n",
        "\n",
        "    pr=p[0]\n",
        "    i = 0\n",
        "    print (i,end=' ')\n",
        "\n",
        "\n",
        "    for j in range(n):\n",
        "\n",
        "\n",
        "        if s[j] >= f[i]:\n",
        "            print (j,end=' ')\n",
        "\n",
        "            i = j\n",
        "            pr+=p[i]\n",
        "    print(\"\\n***************************************************************************************************\")\n",
        "    print(\"\\nSum of profit: \" +str(pr))\n",
        "    print(\"\\n***************************************************************************************************\")\n",
        "s = [1 , 3 , 0 , 5 , 5 , 8]\n",
        "f = [2 , 4 , 6 , 7 , 9 , 9]\n",
        "p=[2 , 4 , 6 , 7 , 9 ,10 ]\n",
        "printMaxActivities(s , f,p)"
      ]
    },
    {
      "cell_type": "code",
      "execution_count": null,
      "id": "2a7aea2f",
      "metadata": {
        "id": "2a7aea2f",
        "outputId": "e863b0ce-8e67-4562-abbe-17bbddb3389a"
      },
      "outputs": [
        {
          "name": "stdout",
          "output_type": "stream",
          "text": [
            "enter the test  case:3\n",
            "Enter number of jobs : 5\n",
            "\n",
            "Enter the start : 1 2 3 4 5\n",
            "\n",
            "Enter the deadline : 2 3 4 5 8\n",
            "\n",
            "Enter the profit : 2 4 7 8 9\n",
            "************************The following activities are selected********************************\n",
            "0 1 2 3 4 \n",
            "***************************************************************************************************\n",
            "\n",
            "Sum of profit: 30\n",
            "\n",
            "***************************************************************************************************\n",
            "the taken is  0.00019640000000720192\n",
            "Enter number of jobs : 4\n",
            "\n",
            "Enter the start : 1 2 3 4\n",
            "\n",
            "Enter the deadline : 2 3 4 5\n",
            "\n",
            "Enter the profit : 9 8 7 6\n",
            "************************The following activities are selected********************************\n",
            "0 1 2 3 \n",
            "***************************************************************************************************\n",
            "\n",
            "Sum of profit: 30\n",
            "\n",
            "***************************************************************************************************\n",
            "the taken is  0.00011090000000990585\n",
            "Enter number of jobs : 3\n",
            "\n",
            "Enter the start : 3 4 5\n",
            "\n",
            "Enter the deadline : 6 7 8\n",
            "\n",
            "Enter the profit : 6 8 9\n",
            "************************The following activities are selected********************************\n",
            "0 \n",
            "***************************************************************************************************\n",
            "\n",
            "Sum of profit: 6\n",
            "\n",
            "***************************************************************************************************\n",
            "the taken is  0.00013880000000199288\n"
          ]
        }
      ],
      "source": [
        "import time\n",
        "\n",
        "def printMaxActivities(s , f ,p):\n",
        "    n = len(f)\n",
        "    print (\"************************The following activities are selected********************************\")\n",
        "\n",
        "    pr=p[0]\n",
        "    i = 0\n",
        "    print (i,end=' ')\n",
        "\n",
        "\n",
        "    for j in range(n):\n",
        "\n",
        "\n",
        "        if s[j] >= f[i]:\n",
        "            print (j,end=' ')\n",
        "\n",
        "            i = j\n",
        "            pr+=p[i]\n",
        "    print(\"\\n***************************************************************************************************\")\n",
        "    print(\"\\nSum of profit: \" +str(pr))\n",
        "\n",
        "    print(\"\\n***************************************************************************************************\")\n",
        "\n",
        "for _ in range(int(input(\"enter the test  case:\"))):\n",
        "\n",
        "\n",
        "\n",
        "        n = int(input(\"Enter number of jobs : \"))\n",
        "        s= list(map(int,input(\"\\nEnter the start : \").strip().split()))[:n]\n",
        "        f = list(map(int,input(\"\\nEnter the deadline : \").strip().split()))[:n]\n",
        "        p = list(map(int,input(\"\\nEnter the profit : \").strip().split()))[:n]\n",
        "        start_time=time.perf_counter()\n",
        "        printMaxActivities(s , f,p)\n",
        "        end_time=time.perf_counter()\n",
        "        print(\"the taken is \",end_time-start_time)"
      ]
    },
    {
      "cell_type": "code",
      "execution_count": null,
      "id": "958f548e",
      "metadata": {
        "id": "958f548e"
      },
      "outputs": [],
      "source": []
    }
  ],
  "metadata": {
    "kernelspec": {
      "display_name": "Python 3 (ipykernel)",
      "language": "python",
      "name": "python3"
    },
    "language_info": {
      "codemirror_mode": {
        "name": "ipython",
        "version": 3
      },
      "file_extension": ".py",
      "mimetype": "text/x-python",
      "name": "python",
      "nbconvert_exporter": "python",
      "pygments_lexer": "ipython3",
      "version": "3.9.7"
    },
    "colab": {
      "provenance": []
    }
  },
  "nbformat": 4,
  "nbformat_minor": 5
}