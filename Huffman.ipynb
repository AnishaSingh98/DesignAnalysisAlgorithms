{
  "cells": [
    {
      "cell_type": "code",
      "execution_count": null,
      "id": "ab036e08",
      "metadata": {
        "id": "ab036e08",
        "outputId": "4da74c1b-cc15-4906-f468-4cdbd9cb3114"
      },
      "outputs": [
        {
          "name": "stdout",
          "output_type": "stream",
          "text": [
            "enter the test  case:3\n",
            "enter string:AAAABBBBCCCDDEE\n",
            "the taken is  1.409999998713829e-05\n",
            "C : 00\n",
            "E : 010\n",
            "D : 011\n",
            "B : 10\n",
            "A : 11\n",
            "enter string:AABBCCDDEE\n",
            "the taken is  1.3899999999011925e-05\n",
            "E : 00\n",
            "D : 01\n",
            "A : 10\n",
            "C : 110\n",
            "B : 111\n",
            "enter string:ABBBBBCCCEEEDD\n",
            "the taken is  9.299999987888441e-06\n",
            "A : 000\n",
            "D : 001\n",
            "E : 01\n",
            "C : 10\n",
            "B : 11\n"
          ]
        }
      ],
      "source": [
        "import time\n",
        "from collections import Counter\n",
        "\n",
        "\n",
        "class NodeTree(object):\n",
        "    def __init__(self, left=None, right=None):\n",
        "        self.left = left\n",
        "        self.right = right\n",
        "\n",
        "    def children(self):\n",
        "        return self.left, self.right\n",
        "\n",
        "    def __str__(self):\n",
        "        return self.left, self.right\n",
        "\n",
        "\n",
        "def huffman_code_tree(node, binString=''):\n",
        "    '''\n",
        "    Function to find Huffman Code\n",
        "    '''\n",
        "    if type(node) is str:\n",
        "        return {node: binString}\n",
        "    (l, r) = node.children()\n",
        "    d = dict()\n",
        "    d.update(huffman_code_tree(l, binString + '0'))\n",
        "    d.update(huffman_code_tree(r, binString + '1'))\n",
        "    return d\n",
        "\n",
        "\n",
        "def make_tree(nodes):\n",
        "    '''\n",
        "    Function to make tree\n",
        "    :param nodes: Nodes\n",
        "    :return: Root of the tree\n",
        "    '''\n",
        "    while len(nodes) > 1:\n",
        "        (key1, c1) = nodes[-1]\n",
        "        (key2, c2) = nodes[-2]\n",
        "        nodes = nodes[:-2]\n",
        "        node = NodeTree(key1, key2)\n",
        "        nodes.append((node, c1 + c2))\n",
        "        nodes = sorted(nodes, key=lambda x: x[1], reverse=True)\n",
        "    return nodes[0][0]\n",
        "\n",
        "\n",
        "if __name__ == '__main__':\n",
        "\n",
        "    for _ in range(int(input(\"enter the test  case:\"))):\n",
        "\n",
        "\n",
        "\n",
        "\n",
        "\n",
        "   # string = 'BCAADDDCCACACAC'\n",
        "         string=input(\"enter string:\")\n",
        "         freq = dict(Counter(string))\n",
        "         freq = sorted(freq.items(), key=lambda x: x[1], reverse=True)\n",
        "         node = make_tree(freq)\n",
        "         start_time=time.perf_counter()\n",
        "         encoding = huffman_code_tree(node)\n",
        "         end_time=time.perf_counter()\n",
        "         print(\"the taken is \",end_time-start_time)\n",
        "         for i in encoding:\n",
        "                   print(f'{i} : {encoding[i]}')"
      ]
    },
    {
      "cell_type": "code",
      "execution_count": null,
      "id": "7b82112d",
      "metadata": {
        "id": "7b82112d",
        "outputId": "53ab8d03-7b19-4474-c5b8-4b728bf244ce"
      },
      "outputs": [
        {
          "data": {
            "image/png": "[encoded data removed]",
            "text/plain": [
              "<Figure size 432x288 with 1 Axes>"
            ]
          },
          "metadata": {
            "needs_background": "light"
          },
          "output_type": "display_data"
        }
      ],
      "source": [
        "import matplotlib.pyplot as plt\n",
        "x = [ 1.409999998713829e-05,1.3899999999011925e-05,9.299999987888441e-06]\n",
        "y = [15,10,14]\n",
        "plt.plot(x, y)\n",
        "plt.xlabel('Time')\n",
        "plt.ylabel('Size')\n",
        "plt.show()"
      ]
    }
  ],
  "metadata": {
    "kernelspec": {
      "display_name": "Python 3 (ipykernel)",
      "language": "python",
      "name": "python3"
    },
    "language_info": {
      "codemirror_mode": {
        "name": "ipython",
        "version": 3
      },
      "file_extension": ".py",
      "mimetype": "text/x-python",
      "name": "python",
      "nbconvert_exporter": "python",
      "pygments_lexer": "ipython3",
      "version": "3.9.7"
    },
    "colab": {
      "provenance": []
    }
  },
  "nbformat": 4,
  "nbformat_minor": 5
}